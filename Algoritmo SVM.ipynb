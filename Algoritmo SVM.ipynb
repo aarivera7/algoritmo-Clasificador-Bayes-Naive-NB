{
 "cells": [
  {
   "cell_type": "code",
   "execution_count": 1,
   "outputs": [],
   "source": [
    "import pandas as pd\n",
    "from sklearn.model_selection import train_test_split"
   ],
   "metadata": {
    "collapsed": false,
    "pycharm": {
     "name": "#%%\n"
    }
   }
  },
  {
   "cell_type": "code",
   "execution_count": 2,
   "outputs": [
    {
     "data": {
      "text/plain": "     Unnamed: 0             tweetid                user  \\\n0             0  768225400254111744            14628107   \n1             1  770077064833671168           713600676   \n2             2  771207534342320128           120940293   \n3             3  771900763987513345          2827444381   \n4             4  772550560998301697            60878511   \n..          ...                 ...                 ...   \n772         772  814853214050906112           311102472   \n773         773  815439552038977537           119492787   \n774         774  817864316372348928          4878793919   \n775         775  817069708927266816  722185474182254598   \n776         776  817032173689696257           205417315   \n\n                                               content  \\\n0                   @NoilyMV yo soy totalmente puntual   \n1    @SandraCauffman Hola Sandrita. No le habia des...   \n2    Si andan haciendo eso mejor se quedaran callad...   \n3                       Que pereza quiero choco banano   \n4    @robertobrenes Bueno, no es tanto lo mayor com...   \n..                                                 ...   \n772     Quiero como tener carro para hacer todo rápido   \n773         Tristeza más hp me da siempre en año nuevo   \n774            no encuentro ninguna buena serie en NF.   \n775  @Alphasniper97 Alpha suerte y ten un feliz año...   \n776  @sancarlena77 @miguelpintor05 @demalaspalabras...   \n\n                               date lang sentiment  \n0    Tue Aug 23 23:16:23 +0000 2016   es      NONE  \n1    Mon Aug 29 01:54:14 +0000 2016   es         P  \n2    Thu Sep 01 04:46:19 +0000 2016   es         N  \n3    Sat Sep 03 02:40:58 +0000 2016   es         N  \n4    Sun Sep 04 21:43:01 +0000 2016   es         N  \n..                              ...  ...       ...  \n772  Fri Dec 30 15:18:40 +0000 2016   es       NEU  \n773  Sun Jan 01 06:08:33 +0000 2017   es         N  \n774  Sat Jan 07 22:43:42 +0000 2017   es         N  \n775  Thu Jan 05 18:06:13 +0000 2017   es         P  \n776  Thu Jan 05 15:37:04 +0000 2017   es      NONE  \n\n[777 rows x 7 columns]",
      "text/html": "<div>\n<style scoped>\n    .dataframe tbody tr th:only-of-type {\n        vertical-align: middle;\n    }\n\n    .dataframe tbody tr th {\n        vertical-align: top;\n    }\n\n    .dataframe thead th {\n        text-align: right;\n    }\n</style>\n<table border=\"1\" class=\"dataframe\">\n  <thead>\n    <tr style=\"text-align: right;\">\n      <th></th>\n      <th>Unnamed: 0</th>\n      <th>tweetid</th>\n      <th>user</th>\n      <th>content</th>\n      <th>date</th>\n      <th>lang</th>\n      <th>sentiment</th>\n    </tr>\n  </thead>\n  <tbody>\n    <tr>\n      <th>0</th>\n      <td>0</td>\n      <td>768225400254111744</td>\n      <td>14628107</td>\n      <td>@NoilyMV yo soy totalmente puntual</td>\n      <td>Tue Aug 23 23:16:23 +0000 2016</td>\n      <td>es</td>\n      <td>NONE</td>\n    </tr>\n    <tr>\n      <th>1</th>\n      <td>1</td>\n      <td>770077064833671168</td>\n      <td>713600676</td>\n      <td>@SandraCauffman Hola Sandrita. No le habia des...</td>\n      <td>Mon Aug 29 01:54:14 +0000 2016</td>\n      <td>es</td>\n      <td>P</td>\n    </tr>\n    <tr>\n      <th>2</th>\n      <td>2</td>\n      <td>771207534342320128</td>\n      <td>120940293</td>\n      <td>Si andan haciendo eso mejor se quedaran callad...</td>\n      <td>Thu Sep 01 04:46:19 +0000 2016</td>\n      <td>es</td>\n      <td>N</td>\n    </tr>\n    <tr>\n      <th>3</th>\n      <td>3</td>\n      <td>771900763987513345</td>\n      <td>2827444381</td>\n      <td>Que pereza quiero choco banano</td>\n      <td>Sat Sep 03 02:40:58 +0000 2016</td>\n      <td>es</td>\n      <td>N</td>\n    </tr>\n    <tr>\n      <th>4</th>\n      <td>4</td>\n      <td>772550560998301697</td>\n      <td>60878511</td>\n      <td>@robertobrenes Bueno, no es tanto lo mayor com...</td>\n      <td>Sun Sep 04 21:43:01 +0000 2016</td>\n      <td>es</td>\n      <td>N</td>\n    </tr>\n    <tr>\n      <th>...</th>\n      <td>...</td>\n      <td>...</td>\n      <td>...</td>\n      <td>...</td>\n      <td>...</td>\n      <td>...</td>\n      <td>...</td>\n    </tr>\n    <tr>\n      <th>772</th>\n      <td>772</td>\n      <td>814853214050906112</td>\n      <td>311102472</td>\n      <td>Quiero como tener carro para hacer todo rápido</td>\n      <td>Fri Dec 30 15:18:40 +0000 2016</td>\n      <td>es</td>\n      <td>NEU</td>\n    </tr>\n    <tr>\n      <th>773</th>\n      <td>773</td>\n      <td>815439552038977537</td>\n      <td>119492787</td>\n      <td>Tristeza más hp me da siempre en año nuevo</td>\n      <td>Sun Jan 01 06:08:33 +0000 2017</td>\n      <td>es</td>\n      <td>N</td>\n    </tr>\n    <tr>\n      <th>774</th>\n      <td>774</td>\n      <td>817864316372348928</td>\n      <td>4878793919</td>\n      <td>no encuentro ninguna buena serie en NF.</td>\n      <td>Sat Jan 07 22:43:42 +0000 2017</td>\n      <td>es</td>\n      <td>N</td>\n    </tr>\n    <tr>\n      <th>775</th>\n      <td>775</td>\n      <td>817069708927266816</td>\n      <td>722185474182254598</td>\n      <td>@Alphasniper97 Alpha suerte y ten un feliz año...</td>\n      <td>Thu Jan 05 18:06:13 +0000 2017</td>\n      <td>es</td>\n      <td>P</td>\n    </tr>\n    <tr>\n      <th>776</th>\n      <td>776</td>\n      <td>817032173689696257</td>\n      <td>205417315</td>\n      <td>@sancarlena77 @miguelpintor05 @demalaspalabras...</td>\n      <td>Thu Jan 05 15:37:04 +0000 2017</td>\n      <td>es</td>\n      <td>NONE</td>\n    </tr>\n  </tbody>\n</table>\n<p>777 rows × 7 columns</p>\n</div>"
     },
     "execution_count": 2,
     "metadata": {},
     "output_type": "execute_result"
    }
   ],
   "source": [
    "df = pd.read_csv('data/TASS2019_country_CR_train.csv')\n",
    "df = df[df['sentiment'].notnull()]\n",
    "df"
   ],
   "metadata": {
    "collapsed": false,
    "pycharm": {
     "name": "#%%\n"
    }
   }
  },
  {
   "cell_type": "code",
   "execution_count": 3,
   "outputs": [
    {
     "data": {
      "text/plain": "     Unnamed: 0             tweetid                user  \\\n0             0  768225400254111744            14628107   \n1             1  770077064833671168           713600676   \n2             2  771207534342320128           120940293   \n3             3  771900763987513345          2827444381   \n4             4  772550560998301697            60878511   \n..          ...                 ...                 ...   \n772         772  814853214050906112           311102472   \n773         773  815439552038977537           119492787   \n774         774  817864316372348928          4878793919   \n775         775  817069708927266816  722185474182254598   \n776         776  817032173689696257           205417315   \n\n                                               content  \\\n0                   @NoilyMV yo soy totalmente puntual   \n1    @SandraCauffman Hola Sandrita. No le habia des...   \n2    Si andan haciendo eso mejor se quedaran callad...   \n3                       Que pereza quiero choco banano   \n4    @robertobrenes Bueno, no es tanto lo mayor com...   \n..                                                 ...   \n772     Quiero como tener carro para hacer todo rápido   \n773         Tristeza más hp me da siempre en año nuevo   \n774            no encuentro ninguna buena serie en NF.   \n775  @Alphasniper97 Alpha suerte y ten un feliz año...   \n776  @sancarlena77 @miguelpintor05 @demalaspalabras...   \n\n                               date lang  sentiment  \n0    Tue Aug 23 23:16:23 +0000 2016   es          3  \n1    Mon Aug 29 01:54:14 +0000 2016   es          1  \n2    Thu Sep 01 04:46:19 +0000 2016   es          0  \n3    Sat Sep 03 02:40:58 +0000 2016   es          0  \n4    Sun Sep 04 21:43:01 +0000 2016   es          0  \n..                              ...  ...        ...  \n772  Fri Dec 30 15:18:40 +0000 2016   es          2  \n773  Sun Jan 01 06:08:33 +0000 2017   es          0  \n774  Sat Jan 07 22:43:42 +0000 2017   es          0  \n775  Thu Jan 05 18:06:13 +0000 2017   es          1  \n776  Thu Jan 05 15:37:04 +0000 2017   es          3  \n\n[777 rows x 7 columns]",
      "text/html": "<div>\n<style scoped>\n    .dataframe tbody tr th:only-of-type {\n        vertical-align: middle;\n    }\n\n    .dataframe tbody tr th {\n        vertical-align: top;\n    }\n\n    .dataframe thead th {\n        text-align: right;\n    }\n</style>\n<table border=\"1\" class=\"dataframe\">\n  <thead>\n    <tr style=\"text-align: right;\">\n      <th></th>\n      <th>Unnamed: 0</th>\n      <th>tweetid</th>\n      <th>user</th>\n      <th>content</th>\n      <th>date</th>\n      <th>lang</th>\n      <th>sentiment</th>\n    </tr>\n  </thead>\n  <tbody>\n    <tr>\n      <th>0</th>\n      <td>0</td>\n      <td>768225400254111744</td>\n      <td>14628107</td>\n      <td>@NoilyMV yo soy totalmente puntual</td>\n      <td>Tue Aug 23 23:16:23 +0000 2016</td>\n      <td>es</td>\n      <td>3</td>\n    </tr>\n    <tr>\n      <th>1</th>\n      <td>1</td>\n      <td>770077064833671168</td>\n      <td>713600676</td>\n      <td>@SandraCauffman Hola Sandrita. No le habia des...</td>\n      <td>Mon Aug 29 01:54:14 +0000 2016</td>\n      <td>es</td>\n      <td>1</td>\n    </tr>\n    <tr>\n      <th>2</th>\n      <td>2</td>\n      <td>771207534342320128</td>\n      <td>120940293</td>\n      <td>Si andan haciendo eso mejor se quedaran callad...</td>\n      <td>Thu Sep 01 04:46:19 +0000 2016</td>\n      <td>es</td>\n      <td>0</td>\n    </tr>\n    <tr>\n      <th>3</th>\n      <td>3</td>\n      <td>771900763987513345</td>\n      <td>2827444381</td>\n      <td>Que pereza quiero choco banano</td>\n      <td>Sat Sep 03 02:40:58 +0000 2016</td>\n      <td>es</td>\n      <td>0</td>\n    </tr>\n    <tr>\n      <th>4</th>\n      <td>4</td>\n      <td>772550560998301697</td>\n      <td>60878511</td>\n      <td>@robertobrenes Bueno, no es tanto lo mayor com...</td>\n      <td>Sun Sep 04 21:43:01 +0000 2016</td>\n      <td>es</td>\n      <td>0</td>\n    </tr>\n    <tr>\n      <th>...</th>\n      <td>...</td>\n      <td>...</td>\n      <td>...</td>\n      <td>...</td>\n      <td>...</td>\n      <td>...</td>\n      <td>...</td>\n    </tr>\n    <tr>\n      <th>772</th>\n      <td>772</td>\n      <td>814853214050906112</td>\n      <td>311102472</td>\n      <td>Quiero como tener carro para hacer todo rápido</td>\n      <td>Fri Dec 30 15:18:40 +0000 2016</td>\n      <td>es</td>\n      <td>2</td>\n    </tr>\n    <tr>\n      <th>773</th>\n      <td>773</td>\n      <td>815439552038977537</td>\n      <td>119492787</td>\n      <td>Tristeza más hp me da siempre en año nuevo</td>\n      <td>Sun Jan 01 06:08:33 +0000 2017</td>\n      <td>es</td>\n      <td>0</td>\n    </tr>\n    <tr>\n      <th>774</th>\n      <td>774</td>\n      <td>817864316372348928</td>\n      <td>4878793919</td>\n      <td>no encuentro ninguna buena serie en NF.</td>\n      <td>Sat Jan 07 22:43:42 +0000 2017</td>\n      <td>es</td>\n      <td>0</td>\n    </tr>\n    <tr>\n      <th>775</th>\n      <td>775</td>\n      <td>817069708927266816</td>\n      <td>722185474182254598</td>\n      <td>@Alphasniper97 Alpha suerte y ten un feliz año...</td>\n      <td>Thu Jan 05 18:06:13 +0000 2017</td>\n      <td>es</td>\n      <td>1</td>\n    </tr>\n    <tr>\n      <th>776</th>\n      <td>776</td>\n      <td>817032173689696257</td>\n      <td>205417315</td>\n      <td>@sancarlena77 @miguelpintor05 @demalaspalabras...</td>\n      <td>Thu Jan 05 15:37:04 +0000 2017</td>\n      <td>es</td>\n      <td>3</td>\n    </tr>\n  </tbody>\n</table>\n<p>777 rows × 7 columns</p>\n</div>"
     },
     "execution_count": 3,
     "metadata": {},
     "output_type": "execute_result"
    }
   ],
   "source": [
    "df['sentiment'] = df.sentiment.map({'N':0, 'P':1, 'NEU':2, 'NONE':3})\n",
    "df"
   ],
   "metadata": {
    "collapsed": false,
    "pycharm": {
     "name": "#%%\n"
    }
   }
  },
  {
   "cell_type": "code",
   "execution_count": 4,
   "outputs": [
    {
     "data": {
      "text/plain": "[34,\n 137,\n 129,\n 30,\n 131,\n 120,\n 137,\n 137,\n 133,\n 132,\n 117,\n 127,\n 127,\n 124,\n 34,\n 132,\n 29,\n 131,\n 137,\n 137,\n 124,\n 47,\n 97,\n 110,\n 134,\n 122,\n 126,\n 135,\n 29,\n 124,\n 90,\n 132,\n 136,\n 32,\n 135,\n 108,\n 121,\n 123,\n 25,\n 34,\n 117,\n 136,\n 129,\n 104,\n 122,\n 111,\n 45,\n 124,\n 134,\n 129,\n 104,\n 120,\n 119,\n 24,\n 112,\n 129,\n 134,\n 33,\n 130,\n 91,\n 136,\n 120,\n 88,\n 30,\n 134,\n 136,\n 111,\n 133,\n 137,\n 114,\n 27,\n 125,\n 136,\n 92,\n 123,\n 117,\n 133,\n 99,\n 28,\n 29,\n 128,\n 135,\n 135,\n 134,\n 30,\n 132,\n 109,\n 105,\n 18,\n 130,\n 134,\n 39,\n 34,\n 133,\n 104,\n 31,\n 121,\n 135,\n 121,\n 43,\n 133,\n 133,\n 129,\n 129,\n 131,\n 124,\n 111,\n 104,\n 106,\n 120,\n 128,\n 134,\n 42,\n 135,\n 23,\n 121,\n 125,\n 117,\n 107,\n 114,\n 32,\n 120,\n 50,\n 113,\n 132,\n 133,\n 79,\n 42,\n 122,\n 121,\n 136,\n 132,\n 130,\n 103,\n 131,\n 116,\n 94,\n 38,\n 109,\n 109,\n 29,\n 119,\n 137,\n 22,\n 125,\n 103,\n 115,\n 110,\n 112,\n 107,\n 101,\n 125,\n 130,\n 137,\n 28,\n 132,\n 97,\n 93,\n 127,\n 108,\n 102,\n 86,\n 106,\n 121,\n 122,\n 103,\n 103,\n 101,\n 71,\n 81,\n 124,\n 61,\n 117,\n 90,\n 118,\n 129,\n 133,\n 129,\n 82,\n 100,\n 89,\n 113,\n 33,\n 49,\n 128,\n 108,\n 50,\n 129,\n 71,\n 78,\n 119,\n 106,\n 100,\n 132,\n 46,\n 66,\n 87,\n 98,\n 112,\n 82,\n 47,\n 96,\n 129,\n 95,\n 106,\n 75,\n 89,\n 124,\n 123,\n 129,\n 112,\n 96,\n 124,\n 35,\n 112,\n 119,\n 96,\n 89,\n 25,\n 130,\n 114,\n 77,\n 38,\n 25,\n 114,\n 89,\n 121,\n 130,\n 134,\n 120,\n 90,\n 116,\n 45,\n 97,\n 89,\n 113,\n 113,\n 137,\n 106,\n 90,\n 115,\n 65,\n 128,\n 28,\n 96,\n 117,\n 107,\n 44,\n 92,\n 87,\n 99,\n 123,\n 131,\n 128,\n 83,\n 106,\n 100,\n 133,\n 97,\n 28,\n 100,\n 76,\n 90,\n 65,\n 109,\n 81,\n 124,\n 137,\n 88,\n 108,\n 110,\n 113,\n 78,\n 82,\n 134,\n 105,\n 132,\n 87,\n 79,\n 95,\n 137,\n 64,\n 128,\n 92,\n 99,\n 136,\n 113,\n 118,\n 120,\n 100,\n 32,\n 134,\n 21,\n 22,\n 86,\n 96,\n 78,\n 44,\n 90,\n 110,\n 54,\n 67,\n 102,\n 32,\n 92,\n 83,\n 49,\n 78,\n 76,\n 41,\n 133,\n 68,\n 106,\n 119,\n 107,\n 86,\n 127,\n 88,\n 77,\n 135,\n 63,\n 64,\n 127,\n 46,\n 49,\n 88,\n 130,\n 105,\n 71,\n 85,\n 56,\n 63,\n 55,\n 71,\n 23,\n 110,\n 116,\n 106,\n 60,\n 120,\n 51,\n 89,\n 91,\n 36,\n 132,\n 92,\n 72,\n 53,\n 83,\n 98,\n 116,\n 89,\n 88,\n 47,\n 103,\n 113,\n 119,\n 89,\n 96,\n 27,\n 87,\n 126,\n 87,\n 80,\n 39,\n 84,\n 85,\n 72,\n 69,\n 65,\n 80,\n 117,\n 78,\n 75,\n 41,\n 77,\n 61,\n 39,\n 31,\n 110,\n 44,\n 117,\n 66,\n 49,\n 118,\n 110,\n 94,\n 64,\n 76,\n 128,\n 108,\n 93,\n 44,\n 72,\n 67,\n 115,\n 112,\n 84,\n 136,\n 89,\n 119,\n 102,\n 46,\n 38,\n 112,\n 68,\n 57,\n 48,\n 58,\n 74,\n 34,\n 104,\n 124,\n 96,\n 95,\n 67,\n 88,\n 40,\n 89,\n 76,\n 63,\n 56,\n 98,\n 56,\n 98,\n 58,\n 86,\n 92,\n 81,\n 45,\n 70,\n 49,\n 86,\n 64,\n 55,\n 82,\n 132,\n 135,\n 60,\n 75,\n 93,\n 54,\n 56,\n 96,\n 58,\n 56,\n 112,\n 57,\n 43,\n 46,\n 69,\n 72,\n 90,\n 45,\n 86,\n 87,\n 98,\n 48,\n 31,\n 122,\n 70,\n 37,\n 105,\n 70,\n 41,\n 110,\n 37,\n 32,\n 34,\n 115,\n 68,\n 57,\n 42,\n 43,\n 132,\n 40,\n 42,\n 89,\n 36,\n 86,\n 107,\n 51,\n 94,\n 109,\n 55,\n 53,\n 91,\n 131,\n 49,\n 94,\n 44,\n 89,\n 79,\n 110,\n 122,\n 98,\n 51,\n 109,\n 92,\n 68,\n 81,\n 90,\n 135,\n 109,\n 116,\n 56,\n 72,\n 82,\n 50,\n 83,\n 68,\n 112,\n 49,\n 112,\n 52,\n 41,\n 95,\n 81,\n 47,\n 103,\n 68,\n 90,\n 108,\n 57,\n 84,\n 115,\n 68,\n 98,\n 42,\n 54,\n 48,\n 39,\n 50,\n 54,\n 42,\n 110,\n 86,\n 52,\n 62,\n 89,\n 65,\n 39,\n 86,\n 67,\n 130,\n 44,\n 65,\n 78,\n 99,\n 124,\n 86,\n 46,\n 97,\n 100,\n 96,\n 103,\n 63,\n 77,\n 94,\n 44,\n 66,\n 48,\n 36,\n 68,\n 92,\n 103,\n 54,\n 106,\n 37,\n 69,\n 135,\n 103,\n 52,\n 64,\n 87,\n 103,\n 76,\n 70,\n 40,\n 44,\n 76,\n 53,\n 76,\n 110,\n 54,\n 44,\n 43,\n 66,\n 39,\n 117,\n 59,\n 64,\n 136,\n 54,\n 90,\n 85,\n 68,\n 82,\n 131,\n 60,\n 74,\n 56,\n 44,\n 33,\n 40,\n 68,\n 45,\n 51,\n 69,\n 77,\n 70,\n 53,\n 59,\n 35,\n 29,\n 52,\n 34,\n 93,\n 50,\n 51,\n 82,\n 39,\n 75,\n 84,\n 83,\n 136,\n 80,\n 99,\n 104,\n 67,\n 60,\n 30,\n 36,\n 71,\n 117,\n 52,\n 58,\n 38,\n 83,\n 58,\n 51,\n 34,\n 62,\n 71,\n 51,\n 46,\n 72,\n 62,\n 63,\n 84,\n 55,\n 63,\n 92,\n 44,\n 107,\n 49,\n 51,\n 66,\n 127,\n 100,\n 56,\n 125,\n 50,\n 39,\n 81,\n 41,\n 71,\n 61,\n 42,\n 64,\n 87,\n 72,\n 91,\n 97,\n 44,\n 51,\n 88,\n 58,\n 54,\n 101,\n 67,\n 83,\n 91,\n 89,\n 83,\n 42,\n 55,\n 54,\n 51,\n 39,\n 70,\n 76,\n 26,\n 44,\n 37,\n 46,\n 68,\n 84,\n 40,\n 94,\n 42,\n 122,\n 50,\n 34,\n 54,\n 51,\n 37,\n 90,\n 54,\n 65,\n 74,\n 64,\n 69,\n 38,\n 50,\n 58,\n 77,\n 57,\n 44,\n 63,\n 42,\n 48,\n 71,\n 92,\n 61,\n 62,\n 35,\n 44,\n 56,\n 45,\n 66,\n 46,\n 73,\n 77,\n 46,\n 67,\n 83,\n 79,\n 69,\n 78,\n 57,\n 50,\n 49,\n 75,\n 65,\n 77,\n 63,\n 75,\n 33,\n 70,\n 65,\n 59,\n 43,\n 72,\n 59,\n 37,\n 78,\n 73,\n 70,\n 63,\n 35,\n 58,\n 55,\n 52,\n 70,\n 53,\n 71,\n 49,\n 63,\n 52,\n 49,\n 85,\n 46,\n 42,\n 39,\n 51,\n 83]"
     },
     "execution_count": 4,
     "metadata": {},
     "output_type": "execute_result"
    }
   ],
   "source": [
    "len_str = [len(i) for i in df['content']]\n",
    "df.insert(4,\"Len\",len_str,True)\n",
    "len_str"
   ],
   "metadata": {
    "collapsed": false,
    "pycharm": {
     "name": "#%%\n"
    }
   }
  },
  {
   "cell_type": "code",
   "execution_count": 5,
   "outputs": [
    {
     "data": {
      "text/plain": "     Unnamed: 0  Len\n0             0   34\n1             1  137\n2             2  129\n3             3   30\n4             4  131\n..          ...  ...\n772         772   46\n773         773   42\n774         774   39\n775         775   51\n776         776   83\n\n[777 rows x 2 columns]",
      "text/html": "<div>\n<style scoped>\n    .dataframe tbody tr th:only-of-type {\n        vertical-align: middle;\n    }\n\n    .dataframe tbody tr th {\n        vertical-align: top;\n    }\n\n    .dataframe thead th {\n        text-align: right;\n    }\n</style>\n<table border=\"1\" class=\"dataframe\">\n  <thead>\n    <tr style=\"text-align: right;\">\n      <th></th>\n      <th>Unnamed: 0</th>\n      <th>Len</th>\n    </tr>\n  </thead>\n  <tbody>\n    <tr>\n      <th>0</th>\n      <td>0</td>\n      <td>34</td>\n    </tr>\n    <tr>\n      <th>1</th>\n      <td>1</td>\n      <td>137</td>\n    </tr>\n    <tr>\n      <th>2</th>\n      <td>2</td>\n      <td>129</td>\n    </tr>\n    <tr>\n      <th>3</th>\n      <td>3</td>\n      <td>30</td>\n    </tr>\n    <tr>\n      <th>4</th>\n      <td>4</td>\n      <td>131</td>\n    </tr>\n    <tr>\n      <th>...</th>\n      <td>...</td>\n      <td>...</td>\n    </tr>\n    <tr>\n      <th>772</th>\n      <td>772</td>\n      <td>46</td>\n    </tr>\n    <tr>\n      <th>773</th>\n      <td>773</td>\n      <td>42</td>\n    </tr>\n    <tr>\n      <th>774</th>\n      <td>774</td>\n      <td>39</td>\n    </tr>\n    <tr>\n      <th>775</th>\n      <td>775</td>\n      <td>51</td>\n    </tr>\n    <tr>\n      <th>776</th>\n      <td>776</td>\n      <td>83</td>\n    </tr>\n  </tbody>\n</table>\n<p>777 rows × 2 columns</p>\n</div>"
     },
     "execution_count": 5,
     "metadata": {},
     "output_type": "execute_result"
    }
   ],
   "source": [
    "data = df[['Unnamed: 0', 'Len']].astype(int)\n",
    "sentiment = df['sentiment']\n",
    "\n",
    "from sklearn import preprocessing\n",
    "scale = preprocessing.MinMaxScaler()\n",
    "scale.fit_transform(data)\n",
    "data"
   ],
   "metadata": {
    "collapsed": false,
    "pycharm": {
     "name": "#%%\n"
    }
   }
  },
  {
   "cell_type": "code",
   "execution_count": 6,
   "outputs": [],
   "source": [
    "X_train, X_test, y_train, y_test = train_test_split(data, sentiment, random_state=4)"
   ],
   "metadata": {
    "collapsed": false,
    "pycharm": {
     "name": "#%%\n"
    }
   }
  },
  {
   "cell_type": "code",
   "execution_count": 15,
   "outputs": [
    {
     "data": {
      "text/plain": "SVR()",
      "text/html": "<style>#sk-container-id-1 {color: black;background-color: white;}#sk-container-id-1 pre{padding: 0;}#sk-container-id-1 div.sk-toggleable {background-color: white;}#sk-container-id-1 label.sk-toggleable__label {cursor: pointer;display: block;width: 100%;margin-bottom: 0;padding: 0.3em;box-sizing: border-box;text-align: center;}#sk-container-id-1 label.sk-toggleable__label-arrow:before {content: \"▸\";float: left;margin-right: 0.25em;color: #696969;}#sk-container-id-1 label.sk-toggleable__label-arrow:hover:before {color: black;}#sk-container-id-1 div.sk-estimator:hover label.sk-toggleable__label-arrow:before {color: black;}#sk-container-id-1 div.sk-toggleable__content {max-height: 0;max-width: 0;overflow: hidden;text-align: left;background-color: #f0f8ff;}#sk-container-id-1 div.sk-toggleable__content pre {margin: 0.2em;color: black;border-radius: 0.25em;background-color: #f0f8ff;}#sk-container-id-1 input.sk-toggleable__control:checked~div.sk-toggleable__content {max-height: 200px;max-width: 100%;overflow: auto;}#sk-container-id-1 input.sk-toggleable__control:checked~label.sk-toggleable__label-arrow:before {content: \"▾\";}#sk-container-id-1 div.sk-estimator input.sk-toggleable__control:checked~label.sk-toggleable__label {background-color: #d4ebff;}#sk-container-id-1 div.sk-label input.sk-toggleable__control:checked~label.sk-toggleable__label {background-color: #d4ebff;}#sk-container-id-1 input.sk-hidden--visually {border: 0;clip: rect(1px 1px 1px 1px);clip: rect(1px, 1px, 1px, 1px);height: 1px;margin: -1px;overflow: hidden;padding: 0;position: absolute;width: 1px;}#sk-container-id-1 div.sk-estimator {font-family: monospace;background-color: #f0f8ff;border: 1px dotted black;border-radius: 0.25em;box-sizing: border-box;margin-bottom: 0.5em;}#sk-container-id-1 div.sk-estimator:hover {background-color: #d4ebff;}#sk-container-id-1 div.sk-parallel-item::after {content: \"\";width: 100%;border-bottom: 1px solid gray;flex-grow: 1;}#sk-container-id-1 div.sk-label:hover label.sk-toggleable__label {background-color: #d4ebff;}#sk-container-id-1 div.sk-serial::before {content: \"\";position: absolute;border-left: 1px solid gray;box-sizing: border-box;top: 0;bottom: 0;left: 50%;z-index: 0;}#sk-container-id-1 div.sk-serial {display: flex;flex-direction: column;align-items: center;background-color: white;padding-right: 0.2em;padding-left: 0.2em;position: relative;}#sk-container-id-1 div.sk-item {position: relative;z-index: 1;}#sk-container-id-1 div.sk-parallel {display: flex;align-items: stretch;justify-content: center;background-color: white;position: relative;}#sk-container-id-1 div.sk-item::before, #sk-container-id-1 div.sk-parallel-item::before {content: \"\";position: absolute;border-left: 1px solid gray;box-sizing: border-box;top: 0;bottom: 0;left: 50%;z-index: -1;}#sk-container-id-1 div.sk-parallel-item {display: flex;flex-direction: column;z-index: 1;position: relative;background-color: white;}#sk-container-id-1 div.sk-parallel-item:first-child::after {align-self: flex-end;width: 50%;}#sk-container-id-1 div.sk-parallel-item:last-child::after {align-self: flex-start;width: 50%;}#sk-container-id-1 div.sk-parallel-item:only-child::after {width: 0;}#sk-container-id-1 div.sk-dashed-wrapped {border: 1px dashed gray;margin: 0 0.4em 0.5em 0.4em;box-sizing: border-box;padding-bottom: 0.4em;background-color: white;}#sk-container-id-1 div.sk-label label {font-family: monospace;font-weight: bold;display: inline-block;line-height: 1.2em;}#sk-container-id-1 div.sk-label-container {text-align: center;}#sk-container-id-1 div.sk-container {/* jupyter's `normalize.less` sets `[hidden] { display: none; }` but bootstrap.min.css set `[hidden] { display: none !important; }` so we also need the `!important` here to be able to override the default hidden behavior on the sphinx rendered scikit-learn.org. See: https://github.com/scikit-learn/scikit-learn/issues/21755 */display: inline-block !important;position: relative;}#sk-container-id-1 div.sk-text-repr-fallback {display: none;}</style><div id=\"sk-container-id-1\" class=\"sk-top-container\"><div class=\"sk-text-repr-fallback\"><pre>SVR()</pre><b>In a Jupyter environment, please rerun this cell to show the HTML representation or trust the notebook. <br />On GitHub, the HTML representation is unable to render, please try loading this page with nbviewer.org.</b></div><div class=\"sk-container\" hidden><div class=\"sk-item\"><div class=\"sk-estimator sk-toggleable\"><input class=\"sk-toggleable__control sk-hidden--visually\" id=\"sk-estimator-id-1\" type=\"checkbox\" checked><label for=\"sk-estimator-id-1\" class=\"sk-toggleable__label sk-toggleable__label-arrow\">SVR</label><div class=\"sk-toggleable__content\"><pre>SVR()</pre></div></div></div></div></div>"
     },
     "execution_count": 15,
     "metadata": {},
     "output_type": "execute_result"
    }
   ],
   "source": [
    "from sklearn import svm\n",
    "reg = svm.SVR()\n",
    "reg.fit(X_train,y_train)"
   ],
   "metadata": {
    "collapsed": false,
    "pycharm": {
     "name": "#%%\n"
    }
   }
  },
  {
   "cell_type": "code",
   "execution_count": null,
   "outputs": [],
   "source": [],
   "metadata": {
    "collapsed": false,
    "pycharm": {
     "name": "#%%\n"
    }
   }
  }
 ],
 "metadata": {
  "kernelspec": {
   "display_name": "Python 3",
   "language": "python",
   "name": "python3"
  },
  "language_info": {
   "codemirror_mode": {
    "name": "ipython",
    "version": 2
   },
   "file_extension": ".py",
   "mimetype": "text/x-python",
   "name": "python",
   "nbconvert_exporter": "python",
   "pygments_lexer": "ipython2",
   "version": "2.7.6"
  }
 },
 "nbformat": 4,
 "nbformat_minor": 0
}